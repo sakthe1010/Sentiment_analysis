{
 "cells": [
  {
   "cell_type": "markdown",
   "id": "3c684190",
   "metadata": {},
   "source": [
    "# MAJOR PROJECT"
   ]
  },
  {
   "cell_type": "code",
   "execution_count": 1,
   "id": "76979251",
   "metadata": {},
   "outputs": [],
   "source": [
    "import pandas as pd\n",
    "import numpy as np\n",
    "import matplotlib.pyplot as plt"
   ]
  },
  {
   "cell_type": "code",
   "execution_count": 2,
   "id": "3a995ea9",
   "metadata": {},
   "outputs": [],
   "source": [
    "df = pd.read_csv(\"Corona_NLP.csv\",encoding='latin1') #reading dataset"
   ]
  },
  {
   "cell_type": "code",
   "execution_count": 3,
   "id": "92003a80",
   "metadata": {},
   "outputs": [
    {
     "data": {
      "text/plain": [
       "(41157, 6)"
      ]
     },
     "execution_count": 3,
     "metadata": {},
     "output_type": "execute_result"
    }
   ],
   "source": [
    "df.shape"
   ]
  },
  {
   "cell_type": "code",
   "execution_count": 4,
   "id": "933a4f51",
   "metadata": {},
   "outputs": [],
   "source": [
    "import sklearn\n",
    "import re"
   ]
  },
  {
   "cell_type": "code",
   "execution_count": 5,
   "id": "a48b5aa9",
   "metadata": {},
   "outputs": [
    {
     "data": {
      "text/plain": [
       "UserName            0\n",
       "ScreenName          0\n",
       "Location         8590\n",
       "TweetAt             0\n",
       "OriginalTweet       0\n",
       "Sentiment           0\n",
       "dtype: int64"
      ]
     },
     "execution_count": 5,
     "metadata": {},
     "output_type": "execute_result"
    }
   ],
   "source": [
    "df.isnull().sum()"
   ]
  },
  {
   "cell_type": "code",
   "execution_count": 6,
   "id": "17a1f835",
   "metadata": {},
   "outputs": [
    {
     "data": {
      "text/plain": [
       "0                              London\n",
       "1                                  UK\n",
       "2                           Vagabonds\n",
       "3                                 NaN\n",
       "4                                 NaN\n",
       "                     ...             \n",
       "41152    Wellington City, New Zealand\n",
       "41153                             NaN\n",
       "41154                             NaN\n",
       "41155                             NaN\n",
       "41156    i love you so much || he/him\n",
       "Name: Location, Length: 41157, dtype: object"
      ]
     },
     "execution_count": 6,
     "metadata": {},
     "output_type": "execute_result"
    }
   ],
   "source": [
    "df.pop('Location') #removing null values"
   ]
  },
  {
   "cell_type": "code",
   "execution_count": 7,
   "id": "485211e1",
   "metadata": {},
   "outputs": [
    {
     "name": "stderr",
     "output_type": "stream",
     "text": [
      "[nltk_data] Downloading package punkt to C:\\Users\\IITM\n",
      "[nltk_data]     mech\\AppData\\Roaming\\nltk_data...\n",
      "[nltk_data]   Package punkt is already up-to-date!\n",
      "[nltk_data] Downloading package stopwords to C:\\Users\\IITM\n",
      "[nltk_data]     mech\\AppData\\Roaming\\nltk_data...\n",
      "[nltk_data]   Package stopwords is already up-to-date!\n",
      "[nltk_data] Downloading package wordnet to C:\\Users\\IITM\n",
      "[nltk_data]     mech\\AppData\\Roaming\\nltk_data...\n",
      "[nltk_data]   Package wordnet is already up-to-date!\n",
      "[nltk_data] Downloading package omw-1.4 to C:\\Users\\IITM\n",
      "[nltk_data]     mech\\AppData\\Roaming\\nltk_data...\n",
      "[nltk_data]   Package omw-1.4 is already up-to-date!\n"
     ]
    }
   ],
   "source": [
    "import nltk\n",
    "nltk.download('punkt')\n",
    "nltk.download('stopwords')\n",
    "nltk.download('wordnet')\n",
    "nltk.download('omw-1.4')\n",
    "from nltk.corpus import stopwords\n",
    "from nltk import word_tokenize as wt\n",
    "from nltk.stem import WordNetLemmatizer\n",
    "from sklearn.feature_extraction.text import CountVectorizer"
   ]
  },
  {
   "cell_type": "code",
   "execution_count": 8,
   "id": "5ba6e655",
   "metadata": {},
   "outputs": [
    {
     "data": {
      "text/plain": [
       "Index(['UserName', 'ScreenName', 'TweetAt', 'OriginalTweet', 'Sentiment'], dtype='object')"
      ]
     },
     "execution_count": 8,
     "metadata": {},
     "output_type": "execute_result"
    }
   ],
   "source": [
    "df.columns"
   ]
  },
  {
   "cell_type": "code",
   "execution_count": 9,
   "id": "1e9e2686",
   "metadata": {},
   "outputs": [],
   "source": [
    "sw = stopwords.words('English')\n",
    "lem = WordNetLemmatizer()"
   ]
  },
  {
   "cell_type": "code",
   "execution_count": 10,
   "id": "cfbff82c",
   "metadata": {},
   "outputs": [],
   "source": [
    "msg = []                                            #pre processing\n",
    "for i in df['OriginalTweet']:\n",
    "    t = i.lower()\n",
    "    t = re.sub('[^a-zA-Z]',' ',t)\n",
    "    t = wt(t)\n",
    "    t = [i for i in t if i not in sw]\n",
    "    t = [lem.lemmatize(i) for i in t]\n",
    "    t=' '.join(t)\n",
    "    msg.append(t)"
   ]
  },
  {
   "cell_type": "code",
   "execution_count": 11,
   "id": "bd82614f",
   "metadata": {},
   "outputs": [
    {
     "data": {
      "text/plain": [
       "0         Neutral\n",
       "1        Positive\n",
       "2        Positive\n",
       "3        Positive\n",
       "4        Negative\n",
       "           ...   \n",
       "41152     Neutral\n",
       "41153    Negative\n",
       "41154    Positive\n",
       "41155     Neutral\n",
       "41156    Negative\n",
       "Name: Sentiment, Length: 41157, dtype: object"
      ]
     },
     "execution_count": 11,
     "metadata": {},
     "output_type": "execute_result"
    }
   ],
   "source": [
    "df['Sentiment'].replace(\"Extremely Positive\",\"Positive\")           #converting extremely positive and negative sentiments\n",
    "df['Sentiment'].replace(\"Extremely Negative\",\"Negative\")"
   ]
  },
  {
   "cell_type": "code",
   "execution_count": 12,
   "id": "78be13bc",
   "metadata": {},
   "outputs": [
    {
     "data": {
      "text/plain": [
       "UserName          int64\n",
       "ScreenName        int64\n",
       "TweetAt          object\n",
       "OriginalTweet    object\n",
       "Sentiment        object\n",
       "dtype: object"
      ]
     },
     "execution_count": 12,
     "metadata": {},
     "output_type": "execute_result"
    }
   ],
   "source": [
    "df.dtypes"
   ]
  },
  {
   "cell_type": "code",
   "execution_count": 13,
   "id": "73dae64b",
   "metadata": {
    "scrolled": true
   },
   "outputs": [
    {
     "name": "stdout",
     "output_type": "stream",
     "text": [
      "[[0 0 0 ... 0 0 0]\n",
      " [0 0 0 ... 0 0 0]\n",
      " [0 0 0 ... 0 0 0]\n",
      " ...\n",
      " [0 0 0 ... 0 0 0]\n",
      " [0 0 0 ... 0 0 0]\n",
      " [0 0 0 ... 0 0 0]]\n",
      "['able', 'absolutely', 'access', 'according', 'account', 'across', 'act', 'action', 'activity', 'actually', 'ad', 'add', 'added', 'additional', 'address', 'adult', 'advantage', 'advertising', 'advice', 'affair', 'affect', 'affected', 'affecting', 'afford', 'affordable', 'africa', 'ag', 'age', 'agency', 'ago', 'agree', 'agriculture', 'ahead', 'aid', 'air', 'airline', 'aisle', 'alcohol', 'alert', 'allow', 'allowed', 'allowing', 'almost', 'alone', 'along', 'already', 'also', 'always', 'amazing', 'amazon', 'america', 'american', 'amid', 'amidst', 'among', 'amount', 'amp', 'analysis', 'analyst', 'animal', 'announced', 'announcement', 'another', 'answer', 'anxiety', 'anyone', 'anything', 'anywhere', 'apart', 'apocalypse', 'app', 'apparently', 'apple', 'apply', 'appreciate', 'approved', 'april', 'arabia', 'area', 'around', 'arrested', 'article', 'as', 'asda', 'asia', 'asian', 'ask', 'asked', 'asking', 'asset', 'assistance', 'attorney', 'au', 'auspol', 'australia', 'australian', 'authority', 'available', 'average', 'avoid', 'aware', 'away', 'baby', 'back', 'bad', 'bag', 'ban', 'bank', 'bar', 'bare', 'barrel', 'based', 'basic', 'basket', 'battle', 'bc', 'bean', 'beat', 'become', 'beef', 'beer', 'begin', 'beginning', 'behavior', 'behaviour', 'behind', 'believe', 'benefit', 'best', 'better', 'beware', 'beyond', 'big', 'biggest', 'bill', 'billion', 'bit', 'black', 'blog', 'bonus', 'book', 'boost', 'border', 'borisjohnson', 'bottle', 'bought', 'box', 'brand', 'bread', 'break', 'breaking', 'bring', 'bringing', 'british', 'brought', 'budget', 'building', 'bulk', 'bus', 'business', 'busy', 'buy', 'buyer', 'buying', 'ca', 'california', 'call', 'called', 'calling', 'calm', 'came', 'canada', 'canadian', 'cancelled', 'cant', 'capacity', 'capital', 'car', 'card', 'care', 'carry', 'cart', 'case', 'cash', 'cashier', 'cat', 'catch', 'catching', 'category', 'caught', 'cause', 'caused', 'causing', 'cdc', 'cent', 'center', 'central', 'centre', 'ceo', 'certain', 'chain', 'challenge', 'chance', 'change', 'changed', 'changing', 'channel', 'chaos', 'charge', 'charged', 'charging', 'charity', 'cheap', 'check', 'checkout', 'chicago', 'chicken', 'child', 'china', 'chinese', 'choice', 'citizen', 'city', 'claim', 'class', 'clean', 'cleaner', 'cleaning', 'clear', 'clerk', 'click', 'client', 'close', 'closed', 'closing', 'closure', 'clothes', 'club', 'cnn', 'co', 'coffee', 'cole', 'collapse', 'combat', 'come', 'coming', 'comment', 'commerce', 'commission', 'commodity', 'common', 'community', 'company', 'competition', 'complaint', 'complete', 'completely', 'concern', 'concerned', 'condition', 'confidence', 'confirmed', 'consider', 'consumer', 'consumption', 'contact', 'content', 'continue', 'continues', 'contract', 'control', 'cooking', 'cope', 'corona', 'coronacrisis', 'coronacrisisuk', 'coronavirus', 'coronaviruslockdown', 'coronavirusoutbreak', 'coronaviruspandemic', 'coronavirusuk', 'coronavirusupdate', 'coronavirususa', 'corporate', 'cost', 'costco', 'cough', 'coughing', 'could', 'council', 'counter', 'country', 'county', 'couple', 'course', 'cover', 'covid', 'covidiots', 'crash', 'crazy', 'create', 'created', 'creating', 'credit', 'crisis', 'critical', 'crowd', 'crowded', 'crude', 'cry', 'curbside', 'cure', 'current', 'currently', 'customer', 'cut', 'dad', 'daily', 'dairy', 'damn', 'data', 'date', 'daughter', 'day', 'de', 'deal', 'dealing', 'dear', 'death', 'debt', 'decided', 'decision', 'decline', 'deep', 'definitely', 'delay', 'deliver', 'delivered', 'delivering', 'delivery', 'demand', 'department', 'deserve', 'despite', 'detail', 'die', 'died', 'difference', 'different', 'difficult', 'digital', 'direct', 'directly', 'director', 'disabled', 'discount', 'discus', 'disease', 'disgusting', 'disinfectant', 'disruption', 'distance', 'distancing', 'distillery', 'distribution', 'diy', 'dm', 'doctor', 'dog', 'dollar', 'domestic', 'donate', 'donated', 'donating', 'donation', 'done', 'dont', 'door', 'double', 'download', 'dr', 'drink', 'drive', 'driven', 'driver', 'driving', 'drop', 'dropped', 'dropping', 'drug', 'dry', 'due', 'dying', 'earlier', 'early', 'easter', 'easy', 'eat', 'eating', 'ebay', 'ecommerce', 'economic', 'economy', 'effect', 'effective', 'effort', 'egg', 'either', 'elderly', 'electricity', 'else', 'email', 'emergency', 'employee', 'empty', 'end', 'energy', 'enough', 'ensure', 'enter', 'entire', 'environment', 'epidemic', 'equipment', 'especially', 'essential', 'estate', 'etc', 'eu', 'europe', 'european', 'even', 'event', 'ever', 'every', 'everybody', 'everyday', 'everyone', 'everything', 'everywhere', 'example', 'except', 'executive', 'expect', 'expectation', 'expected', 'experience', 'experiencing', 'expert', 'explains', 'export', 'exposed', 'exposure', 'extra', 'extremely', 'eye', 'face', 'facebook', 'facility', 'facing', 'fact', 'factory', 'fair', 'fake', 'fall', 'falling', 'family', 'far', 'farm', 'farmer', 'fast', 'fda', 'fear', 'fed', 'federal', 'fee', 'feed', 'feel', 'feeling', 'fell', 'felt', 'fight', 'fighting', 'file', 'fill', 'finally', 'finance', 'financial', 'find', 'finding', 'fine', 'firm', 'first', 'five', 'flattenthecurve', 'flight', 'floor', 'florida', 'flour', 'flu', 'focus', 'folk', 'follow', 'following', 'food', 'foot', 'force', 'forced', 'forget', 'form', 'forward', 'found', 'four', 'fraud', 'free', 'fresh', 'friday', 'friend', 'front', 'frontline', 'frozen', 'fruit', 'ft', 'ftc', 'fuck', 'fucking', 'fuel', 'full', 'fully', 'fun', 'fund', 'funny', 'future', 'gain', 'gallon', 'game', 'gas', 'gathering', 'gave', 'general', 'germ', 'germany', 'get', 'getting', 'giant', 'gift', 'give', 'given', 'giving', 'global', 'glove', 'go', 'god', 'going', 'gold', 'gon', 'gone', 'good', 'google', 'got', 'gouging', 'gov', 'government', 'governor', 'govt', 'grab', 'grateful', 'great', 'greater', 'greedy', 'grocer', 'grocery', 'group', 'grow', 'growing', 'growth', 'gt', 'guard', 'guess', 'guidance', 'guide', 'guideline', 'gun', 'guy', 'habit', 'half', 'hand', 'handle', 'handsanitizer', 'happen', 'happened', 'happening', 'happens', 'happy', 'hard', 'head', 'health', 'healthcare', 'healthy', 'hear', 'heard', 'heart', 'hell', 'hello', 'help', 'helpful', 'helping', 'hero', 'hey', 'hi', 'high', 'higher', 'hike', 'hiked', 'hiking', 'hire', 'hiring', 'hit', 'hoard', 'hoarder', 'hoarding', 'hold', 'holding', 'holiday', 'home', 'hope', 'hospital', 'hot', 'hotel', 'hour', 'house', 'household', 'housing', 'however', 'hr', 'http', 'hub', 'huge', 'human', 'humanity', 'humor', 'hundred', 'hunger', 'hungry', 'husband', 'hygiene', 'idea', 'idiot', 'im', 'imagine', 'immediately', 'immune', 'impact', 'impacted', 'impacting', 'important', 'include', 'includes', 'including', 'income', 'increase', 'increased', 'increasing', 'india', 'indian', 'individual', 'industry', 'infected', 'infection', 'inflated', 'inflation', 'info', 'information', 'inside', 'insight', 'instead', 'insurance', 'interest', 'interesting', 'international', 'internet', 'investment', 'investor', 'isolate', 'isolating', 'isolation', 'issue', 'issued', 'italy', 'item', 'job', 'join', 'joke', 'keep', 'keeping', 'kenya', 'key', 'kid', 'kill', 'kind', 'kit', 'know', 'kroger', 'la', 'lack', 'lady', 'laid', 'large', 'largest', 'last', 'late', 'later', 'latest', 'launch', 'launched', 'law', 'le', 'lead', 'leader', 'leading', 'learn', 'least', 'leave', 'leaving', 'led', 'left', 'let', 'letter', 'level', 'life', 'light', 'like', 'likely', 'limit', 'limited', 'limiting', 'line', 'link', 'list', 'listen', 'literally', 'little', 'live', 'living', 'load', 'loan', 'local', 'location', 'lock', 'lockdown', 'logistics', 'lol', 'london', 'long', 'longer', 'loo', 'look', 'looked', 'looking', 'lose', 'losing', 'loss', 'lost', 'lot', 'love', 'low', 'lower', 'lowest', 'lt', 'lysol', 'made', 'mail', 'main', 'maintain', 'major', 'make', 'making', 'mall', 'man', 'manage', 'management', 'manager', 'manufacturer', 'manufacturing', 'many', 'march', 'market', 'marketing', 'mask', 'mass', 'massive', 'matter', 'may', 'maybe', 'meal', 'mean', 'meanwhile', 'measure', 'meat', 'medical', 'medicine', 'medium', 'meet', 'meeting', 'member', 'meme', 'men', 'message', 'middle', 'might', 'milk', 'million', 'min', 'mind', 'minimum', 'minister', 'minute', 'ml', 'mobile', 'model', 'mom', 'moment', 'monday', 'money', 'month', 'morning', 'morrison', 'mortgage', 'mostly', 'mother', 'mouth', 'move', 'movement', 'movie', 'moving', 'mr', 'much', 'mum', 'must', 'na', 'name', 'narendramodi', 'nation', 'national', 'natural', 'nd', 'near', 'nearly', 'necessary', 'necessity', 'need', 'needed', 'negative', 'neighbor', 'network', 'never', 'new', 'news', 'next', 'nh', 'nice', 'nigeria', 'night', 'nj', 'nobody', 'non', 'normal', 'normally', 'north', 'note', 'nothing', 'notice', 'novel', 'number', 'nurse', 'ny', 'nyc', 'offer', 'offered', 'offering', 'office', 'officer', 'official', 'often', 'oh', 'oil', 'ok', 'old', 'older', 'one', 'ongoing', 'online', 'onlineshopping', 'ontario', 'opec', 'open', 'opening', 'operation', 'opportunity', 'option', 'order', 'ordered', 'ordering', 'organization', 'others', 'outbreak', 'output', 'outside', 'owner', 'oz', 'pa', 'pack', 'package', 'packed', 'page', 'paid', 'pakistan', 'pandemic', 'panic', 'panicbuying', 'panicbuyinguk', 'panicshopping', 'pantry', 'paper', 'parent', 'park', 'parking', 'part', 'partner', 'party', 'pas', 'past', 'pasta', 'patient', 'pattern', 'pay', 'paying', 'payment', 'peak', 'people', 'per', 'percent', 'perfect', 'perhaps', 'period', 'person', 'personal', 'personnel', 'pet', 'petition', 'petrol', 'pharmacy', 'phone', 'photo', 'physical', 'pick', 'pickup', 'picture', 'piece', 'piersmorgan', 'place', 'plan', 'planning', 'plant', 'plastic', 'platform', 'play', 'playing', 'please', 'plenty', 'pls', 'plus', 'pm', 'pmoindia', 'point', 'police', 'policy', 'poor', 'population', 'positive', 'possible', 'post', 'potato', 'potential', 'power', 'ppe', 'ppl', 'practice', 'pre', 'precaution', 'prepare', 'prepared', 'president', 'press', 'pressure', 'pretty', 'prevent', 'price', 'pricegouging', 'pricing', 'priority', 'private', 'probably', 'problem', 'process', 'produce', 'producer', 'producing', 'product', 'production', 'professional', 'profit', 'profiteering', 'program', 'project', 'property', 'protect', 'protecting', 'protection', 'protective', 'provide', 'provided', 'provider', 'providing', 'pub', 'public', 'publix', 'purchase', 'purchasing', 'push', 'put', 'putting', 'quality', 'quarantine', 'quarantinelife', 'question', 'queue', 'queuing', 'quick', 'quickly', 'quite', 'raise', 'raising', 'rate', 'rather', 'ration', 'rationing', 'rd', 'reach', 'read', 'ready', 'real', 'realdonaldtrump', 'reality', 'really', 'reason', 'receive', 'received', 'recent', 'recently', 'recession', 'record', 'recovery', 'reduce', 'reduced', 'refund', 'regarding', 'register', 'regular', 'regulation', 'related', 'release', 'relief', 'remain', 'remains', 'remember', 'reminder', 'rent', 'report', 'reported', 'reporting', 'request', 'required', 'research', 'resident', 'resource', 'respect', 'respond', 'responder', 'response', 'responsible', 'rest', 'restaurant', 'restock', 'restriction', 'result', 'retail', 'retailer', 'return', 'revenue', 'rice', 'rich', 'ridiculous', 'right', 'rise', 'rising', 'risk', 'risking', 'road', 'role', 'roll', 'room', 'round', 'rt', 'rule', 'run', 'running', 'rush', 'russia', 'sa', 'sad', 'safe', 'safely', 'safety', 'said', 'sainsbury', 'sainsburys', 'sale', 'sanitiser', 'sanitize', 'sanitizer', 'sanitizers', 'saturday', 'saudi', 'save', 'saving', 'saw', 'say', 'saying', 'scam', 'scammer', 'scared', 'scary', 'school', 'scientist', 'search', 'season', 'second', 'sector', 'security', 'see', 'seeing', 'seem', 'seems', 'seen', 'self', 'selfish', 'selfisolation', 'sell', 'seller', 'selling', 'send', 'sending', 'senior', 'sense', 'sent', 'sentiment', 'series', 'serious', 'seriously', 'serve', 'service', 'set', 'several', 'shame', 'share', 'sharing', 'shelf', 'shelter', 'shift', 'ship', 'shipping', 'shit', 'shock', 'shop', 'shopper', 'shopping', 'short', 'shortage', 'shout', 'show', 'showing', 'shut', 'shutdown', 'sick', 'side', 'sign', 'significant', 'silver', 'simple', 'since', 'single', 'sir', 'site', 'situation', 'six', 'slot', 'slow', 'small', 'smart', 'soap', 'soar', 'social', 'socialdistanacing', 'socialdistancing', 'society', 'sold', 'solution', 'someone', 'something', 'son', 'soon', 'sorry', 'source', 'south', 'space', 'spain', 'special', 'spend', 'spending', 'spent', 'spike', 'sport', 'spot', 'spray', 'spread', 'spreading', 'spring', 'st', 'staff', 'stand', 'standard', 'standing', 'staple', 'start', 'started', 'starting', 'state', 'station', 'stay', 'stayathome', 'stayhome', 'stayhomesavelives', 'staying', 'staysafe', 'staysafestayhome', 'step', 'still', 'stimulus', 'stock', 'stocked', 'stocking', 'stockpile', 'stockpiling', 'stop', 'stophoarding', 'stoppanicbuying', 'stopped', 'stopstockpiling', 'store', 'story', 'strategy', 'street', 'stress', 'strong', 'struggle', 'struggling', 'stuck', 'student', 'study', 'stuff', 'stupid', 'sunday', 'super', 'supermarket', 'supplier', 'supply', 'supplychain', 'support', 'supporting', 'supposed', 'sure', 'surface', 'surge', 'surgical', 'surrounding', 'survey', 'survival', 'survive', 'sweep', 'symptom', 'system', 'take', 'taken', 'taking', 'talk', 'talking', 'target', 'task', 'tax', 'teacher', 'team', 'tech', 'technology', 'tell', 'telling', 'temporarily', 'temporary', 'term', 'tesco', 'test', 'tested', 'testing', 'texas', 'text', 'th', 'thank', 'thanks', 'thing', 'think', 'thinking', 'though', 'thought', 'thousand', 'thread', 'threat', 'three', 'throughout', 'thru', 'thursday', 'ticket', 'till', 'time', 'tip', 'tissue', 'today', 'together', 'toilet', 'toiletpaper', 'toiletpaperapocalypse', 'toiletpapercrisis', 'toiletpaperpanic', 'told', 'tomorrow', 'tonight', 'took', 'top', 'toronto', 'total', 'totally', 'touch', 'touching', 'tough', 'towards', 'towel', 'town', 'tp', 'track', 'trade', 'trader', 'trading', 'traffic', 'transport', 'travel', 'treat', 'treatment', 'trend', 'tried', 'trip', 'trolley', 'truck', 'true', 'trump', 'trust', 'try', 'trying', 'tuesday', 'turn', 'turning', 'tv', 'tweet', 'twitter', 'two', 'type', 'uk', 'unable', 'uncertain', 'uncertainty', 'understand', 'unemployment', 'united', 'unless', 'unprecedented', 'update', 'updated', 'ur', 'urge', 'usa', 'use', 'used', 'using', 'usual', 'utility', 'vaccine', 'value', 'veg', 'vegetable', 'ventilator', 'via', 'video', 'view', 'virtual', 'virus', 'visit', 'vital', 'volunteer', 'vulnerable', 'wage', 'wait', 'waiting', 'waitrose', 'wake', 'walk', 'walking', 'walmart', 'want', 'wanted', 'war', 'warehouse', 'warning', 'wash', 'washing', 'washyourhands', 'waste', 'watch', 'watching', 'water', 'way', 'wear', 'wearing', 'webinar', 'website', 'wednesday', 'week', 'weekend', 'weekly', 'well', 'went', 'west', 'whether', 'whilst', 'white', 'whole', 'wholesale', 'wife', 'win', 'wine', 'wipe', 'wish', 'within', 'without', 'woman', 'wonder', 'wondering', 'woolworth', 'word', 'work', 'worked', 'worker', 'working', 'world', 'worldwide', 'worried', 'worry', 'worse', 'worst', 'worth', 'would', 'wrong', 'wtf', 'wuhan', 'year', 'yes', 'yesterday', 'yet', 'york', 'young', 'youtube', 'yr', 'zero']\n"
     ]
    },
    {
     "name": "stderr",
     "output_type": "stream",
     "text": [
      "C:\\Users\\IITM mech\\AppData\\Local\\Programs\\Python\\Python310\\lib\\site-packages\\sklearn\\utils\\deprecation.py:87: FutureWarning: Function get_feature_names is deprecated; get_feature_names is deprecated in 1.0 and will be removed in 1.2. Please use get_feature_names_out instead.\n",
      "  warnings.warn(msg, category=FutureWarning)\n"
     ]
    }
   ],
   "source": [
    "cv = CountVectorizer(max_features=1500)    #count vectorizer\n",
    "res = cv.fit_transform(msg).toarray()\n",
    "print(res)\n",
    "print(cv.get_feature_names())"
   ]
  },
  {
   "cell_type": "code",
   "execution_count": 14,
   "id": "9c14df83",
   "metadata": {},
   "outputs": [
    {
     "data": {
      "text/html": [
       "<div>\n",
       "<style scoped>\n",
       "    .dataframe tbody tr th:only-of-type {\n",
       "        vertical-align: middle;\n",
       "    }\n",
       "\n",
       "    .dataframe tbody tr th {\n",
       "        vertical-align: top;\n",
       "    }\n",
       "\n",
       "    .dataframe thead th {\n",
       "        text-align: right;\n",
       "    }\n",
       "</style>\n",
       "<table border=\"1\" class=\"dataframe\">\n",
       "  <thead>\n",
       "    <tr style=\"text-align: right;\">\n",
       "      <th></th>\n",
       "      <th>able</th>\n",
       "      <th>absolutely</th>\n",
       "      <th>access</th>\n",
       "      <th>according</th>\n",
       "      <th>account</th>\n",
       "      <th>across</th>\n",
       "      <th>act</th>\n",
       "      <th>action</th>\n",
       "      <th>activity</th>\n",
       "      <th>actually</th>\n",
       "      <th>...</th>\n",
       "      <th>wuhan</th>\n",
       "      <th>year</th>\n",
       "      <th>yes</th>\n",
       "      <th>yesterday</th>\n",
       "      <th>yet</th>\n",
       "      <th>york</th>\n",
       "      <th>young</th>\n",
       "      <th>youtube</th>\n",
       "      <th>yr</th>\n",
       "      <th>zero</th>\n",
       "    </tr>\n",
       "  </thead>\n",
       "  <tbody>\n",
       "    <tr>\n",
       "      <th>0</th>\n",
       "      <td>0</td>\n",
       "      <td>0</td>\n",
       "      <td>0</td>\n",
       "      <td>0</td>\n",
       "      <td>0</td>\n",
       "      <td>0</td>\n",
       "      <td>0</td>\n",
       "      <td>0</td>\n",
       "      <td>0</td>\n",
       "      <td>0</td>\n",
       "      <td>...</td>\n",
       "      <td>0</td>\n",
       "      <td>0</td>\n",
       "      <td>0</td>\n",
       "      <td>0</td>\n",
       "      <td>0</td>\n",
       "      <td>0</td>\n",
       "      <td>0</td>\n",
       "      <td>0</td>\n",
       "      <td>0</td>\n",
       "      <td>0</td>\n",
       "    </tr>\n",
       "    <tr>\n",
       "      <th>1</th>\n",
       "      <td>0</td>\n",
       "      <td>0</td>\n",
       "      <td>0</td>\n",
       "      <td>0</td>\n",
       "      <td>1</td>\n",
       "      <td>0</td>\n",
       "      <td>0</td>\n",
       "      <td>0</td>\n",
       "      <td>0</td>\n",
       "      <td>0</td>\n",
       "      <td>...</td>\n",
       "      <td>0</td>\n",
       "      <td>0</td>\n",
       "      <td>0</td>\n",
       "      <td>0</td>\n",
       "      <td>0</td>\n",
       "      <td>0</td>\n",
       "      <td>0</td>\n",
       "      <td>0</td>\n",
       "      <td>0</td>\n",
       "      <td>0</td>\n",
       "    </tr>\n",
       "    <tr>\n",
       "      <th>2</th>\n",
       "      <td>0</td>\n",
       "      <td>0</td>\n",
       "      <td>0</td>\n",
       "      <td>0</td>\n",
       "      <td>0</td>\n",
       "      <td>0</td>\n",
       "      <td>0</td>\n",
       "      <td>0</td>\n",
       "      <td>0</td>\n",
       "      <td>0</td>\n",
       "      <td>...</td>\n",
       "      <td>0</td>\n",
       "      <td>0</td>\n",
       "      <td>0</td>\n",
       "      <td>0</td>\n",
       "      <td>0</td>\n",
       "      <td>0</td>\n",
       "      <td>0</td>\n",
       "      <td>0</td>\n",
       "      <td>0</td>\n",
       "      <td>0</td>\n",
       "    </tr>\n",
       "    <tr>\n",
       "      <th>3</th>\n",
       "      <td>0</td>\n",
       "      <td>0</td>\n",
       "      <td>0</td>\n",
       "      <td>0</td>\n",
       "      <td>0</td>\n",
       "      <td>0</td>\n",
       "      <td>0</td>\n",
       "      <td>0</td>\n",
       "      <td>0</td>\n",
       "      <td>0</td>\n",
       "      <td>...</td>\n",
       "      <td>0</td>\n",
       "      <td>0</td>\n",
       "      <td>0</td>\n",
       "      <td>0</td>\n",
       "      <td>0</td>\n",
       "      <td>0</td>\n",
       "      <td>0</td>\n",
       "      <td>0</td>\n",
       "      <td>0</td>\n",
       "      <td>0</td>\n",
       "    </tr>\n",
       "    <tr>\n",
       "      <th>4</th>\n",
       "      <td>0</td>\n",
       "      <td>0</td>\n",
       "      <td>0</td>\n",
       "      <td>0</td>\n",
       "      <td>0</td>\n",
       "      <td>0</td>\n",
       "      <td>0</td>\n",
       "      <td>0</td>\n",
       "      <td>0</td>\n",
       "      <td>0</td>\n",
       "      <td>...</td>\n",
       "      <td>0</td>\n",
       "      <td>0</td>\n",
       "      <td>0</td>\n",
       "      <td>0</td>\n",
       "      <td>0</td>\n",
       "      <td>0</td>\n",
       "      <td>0</td>\n",
       "      <td>0</td>\n",
       "      <td>0</td>\n",
       "      <td>0</td>\n",
       "    </tr>\n",
       "  </tbody>\n",
       "</table>\n",
       "<p>5 rows × 1500 columns</p>\n",
       "</div>"
      ],
      "text/plain": [
       "   able  absolutely  access  according  account  across  act  action  \\\n",
       "0     0           0       0          0        0       0    0       0   \n",
       "1     0           0       0          0        1       0    0       0   \n",
       "2     0           0       0          0        0       0    0       0   \n",
       "3     0           0       0          0        0       0    0       0   \n",
       "4     0           0       0          0        0       0    0       0   \n",
       "\n",
       "   activity  actually  ...  wuhan  year  yes  yesterday  yet  york  young  \\\n",
       "0         0         0  ...      0     0    0          0    0     0      0   \n",
       "1         0         0  ...      0     0    0          0    0     0      0   \n",
       "2         0         0  ...      0     0    0          0    0     0      0   \n",
       "3         0         0  ...      0     0    0          0    0     0      0   \n",
       "4         0         0  ...      0     0    0          0    0     0      0   \n",
       "\n",
       "   youtube  yr  zero  \n",
       "0        0   0     0  \n",
       "1        0   0     0  \n",
       "2        0   0     0  \n",
       "3        0   0     0  \n",
       "4        0   0     0  \n",
       "\n",
       "[5 rows x 1500 columns]"
      ]
     },
     "execution_count": 14,
     "metadata": {},
     "output_type": "execute_result"
    }
   ],
   "source": [
    "df = pd.DataFrame(res,columns = cv.get_feature_names())\n",
    "df.head()"
   ]
  },
  {
   "cell_type": "code",
   "execution_count": 15,
   "id": "1ad64ee0",
   "metadata": {},
   "outputs": [
    {
     "name": "stdout",
     "output_type": "stream",
     "text": [
      "1500\n",
      "['able', 'absolutely', 'access', 'according', 'account', 'across', 'act', 'action', 'activity', 'actually', 'ad', 'add', 'added', 'additional', 'address', 'adult', 'advantage', 'advertising', 'advice', 'affair', 'affect', 'affected', 'affecting', 'afford', 'affordable', 'africa', 'ag', 'age', 'agency', 'ago', 'agree', 'agriculture', 'ahead', 'aid', 'air', 'airline', 'aisle', 'alcohol', 'alert', 'allow', 'allowed', 'allowing', 'almost', 'alone', 'along', 'already', 'also', 'always', 'amazing', 'amazon', 'america', 'american', 'amid', 'amidst', 'among', 'amount', 'amp', 'analysis', 'analyst', 'animal', 'announced', 'announcement', 'another', 'answer', 'anxiety', 'anyone', 'anything', 'anywhere', 'apart', 'apocalypse', 'app', 'apparently', 'apple', 'apply', 'appreciate', 'approved', 'april', 'arabia', 'area', 'around', 'arrested', 'article', 'as', 'asda', 'asia', 'asian', 'ask', 'asked', 'asking', 'asset', 'assistance', 'attorney', 'au', 'auspol', 'australia', 'australian', 'authority', 'available', 'average', 'avoid', 'aware', 'away', 'baby', 'back', 'bad', 'bag', 'ban', 'bank', 'bar', 'bare', 'barrel', 'based', 'basic', 'basket', 'battle', 'bc', 'bean', 'beat', 'become', 'beef', 'beer', 'begin', 'beginning', 'behavior', 'behaviour', 'behind', 'believe', 'benefit', 'best', 'better', 'beware', 'beyond', 'big', 'biggest', 'bill', 'billion', 'bit', 'black', 'blog', 'bonus', 'book', 'boost', 'border', 'borisjohnson', 'bottle', 'bought', 'box', 'brand', 'bread', 'break', 'breaking', 'bring', 'bringing', 'british', 'brought', 'budget', 'building', 'bulk', 'bus', 'business', 'busy', 'buy', 'buyer', 'buying', 'ca', 'california', 'call', 'called', 'calling', 'calm', 'came', 'canada', 'canadian', 'cancelled', 'cant', 'capacity', 'capital', 'car', 'card', 'care', 'carry', 'cart', 'case', 'cash', 'cashier', 'cat', 'catch', 'catching', 'category', 'caught', 'cause', 'caused', 'causing', 'cdc', 'cent', 'center', 'central', 'centre', 'ceo', 'certain', 'chain', 'challenge', 'chance', 'change', 'changed', 'changing', 'channel', 'chaos', 'charge', 'charged', 'charging', 'charity', 'cheap', 'check', 'checkout', 'chicago', 'chicken', 'child', 'china', 'chinese', 'choice', 'citizen', 'city', 'claim', 'class', 'clean', 'cleaner', 'cleaning', 'clear', 'clerk', 'click', 'client', 'close', 'closed', 'closing', 'closure', 'clothes', 'club', 'cnn', 'co', 'coffee', 'cole', 'collapse', 'combat', 'come', 'coming', 'comment', 'commerce', 'commission', 'commodity', 'common', 'community', 'company', 'competition', 'complaint', 'complete', 'completely', 'concern', 'concerned', 'condition', 'confidence', 'confirmed', 'consider', 'consumer', 'consumption', 'contact', 'content', 'continue', 'continues', 'contract', 'control', 'cooking', 'cope', 'corona', 'coronacrisis', 'coronacrisisuk', 'coronavirus', 'coronaviruslockdown', 'coronavirusoutbreak', 'coronaviruspandemic', 'coronavirusuk', 'coronavirusupdate', 'coronavirususa', 'corporate', 'cost', 'costco', 'cough', 'coughing', 'could', 'council', 'counter', 'country', 'county', 'couple', 'course', 'cover', 'covid', 'covidiots', 'crash', 'crazy', 'create', 'created', 'creating', 'credit', 'crisis', 'critical', 'crowd', 'crowded', 'crude', 'cry', 'curbside', 'cure', 'current', 'currently', 'customer', 'cut', 'dad', 'daily', 'dairy', 'damn', 'data', 'date', 'daughter', 'day', 'de', 'deal', 'dealing', 'dear', 'death', 'debt', 'decided', 'decision', 'decline', 'deep', 'definitely', 'delay', 'deliver', 'delivered', 'delivering', 'delivery', 'demand', 'department', 'deserve', 'despite', 'detail', 'die', 'died', 'difference', 'different', 'difficult', 'digital', 'direct', 'directly', 'director', 'disabled', 'discount', 'discus', 'disease', 'disgusting', 'disinfectant', 'disruption', 'distance', 'distancing', 'distillery', 'distribution', 'diy', 'dm', 'doctor', 'dog', 'dollar', 'domestic', 'donate', 'donated', 'donating', 'donation', 'done', 'dont', 'door', 'double', 'download', 'dr', 'drink', 'drive', 'driven', 'driver', 'driving', 'drop', 'dropped', 'dropping', 'drug', 'dry', 'due', 'dying', 'earlier', 'early', 'easter', 'easy', 'eat', 'eating', 'ebay', 'ecommerce', 'economic', 'economy', 'effect', 'effective', 'effort', 'egg', 'either', 'elderly', 'electricity', 'else', 'email', 'emergency', 'employee', 'empty', 'end', 'energy', 'enough', 'ensure', 'enter', 'entire', 'environment', 'epidemic', 'equipment', 'especially', 'essential', 'estate', 'etc', 'eu', 'europe', 'european', 'even', 'event', 'ever', 'every', 'everybody', 'everyday', 'everyone', 'everything', 'everywhere', 'example', 'except', 'executive', 'expect', 'expectation', 'expected', 'experience', 'experiencing', 'expert', 'explains', 'export', 'exposed', 'exposure', 'extra', 'extremely', 'eye', 'face', 'facebook', 'facility', 'facing', 'fact', 'factory', 'fair', 'fake', 'fall', 'falling', 'family', 'far', 'farm', 'farmer', 'fast', 'fda', 'fear', 'fed', 'federal', 'fee', 'feed', 'feel', 'feeling', 'fell', 'felt', 'fight', 'fighting', 'file', 'fill', 'finally', 'finance', 'financial', 'find', 'finding', 'fine', 'firm', 'first', 'five', 'flattenthecurve', 'flight', 'floor', 'florida', 'flour', 'flu', 'focus', 'folk', 'follow', 'following', 'food', 'foot', 'force', 'forced', 'forget', 'form', 'forward', 'found', 'four', 'fraud', 'free', 'fresh', 'friday', 'friend', 'front', 'frontline', 'frozen', 'fruit', 'ft', 'ftc', 'fuck', 'fucking', 'fuel', 'full', 'fully', 'fun', 'fund', 'funny', 'future', 'gain', 'gallon', 'game', 'gas', 'gathering', 'gave', 'general', 'germ', 'germany', 'get', 'getting', 'giant', 'gift', 'give', 'given', 'giving', 'global', 'glove', 'go', 'god', 'going', 'gold', 'gon', 'gone', 'good', 'google', 'got', 'gouging', 'gov', 'government', 'governor', 'govt', 'grab', 'grateful', 'great', 'greater', 'greedy', 'grocer', 'grocery', 'group', 'grow', 'growing', 'growth', 'gt', 'guard', 'guess', 'guidance', 'guide', 'guideline', 'gun', 'guy', 'habit', 'half', 'hand', 'handle', 'handsanitizer', 'happen', 'happened', 'happening', 'happens', 'happy', 'hard', 'head', 'health', 'healthcare', 'healthy', 'hear', 'heard', 'heart', 'hell', 'hello', 'help', 'helpful', 'helping', 'hero', 'hey', 'hi', 'high', 'higher', 'hike', 'hiked', 'hiking', 'hire', 'hiring', 'hit', 'hoard', 'hoarder', 'hoarding', 'hold', 'holding', 'holiday', 'home', 'hope', 'hospital', 'hot', 'hotel', 'hour', 'house', 'household', 'housing', 'however', 'hr', 'http', 'hub', 'huge', 'human', 'humanity', 'humor', 'hundred', 'hunger', 'hungry', 'husband', 'hygiene', 'idea', 'idiot', 'im', 'imagine', 'immediately', 'immune', 'impact', 'impacted', 'impacting', 'important', 'include', 'includes', 'including', 'income', 'increase', 'increased', 'increasing', 'india', 'indian', 'individual', 'industry', 'infected', 'infection', 'inflated', 'inflation', 'info', 'information', 'inside', 'insight', 'instead', 'insurance', 'interest', 'interesting', 'international', 'internet', 'investment', 'investor', 'isolate', 'isolating', 'isolation', 'issue', 'issued', 'italy', 'item', 'job', 'join', 'joke', 'keep', 'keeping', 'kenya', 'key', 'kid', 'kill', 'kind', 'kit', 'know', 'kroger', 'la', 'lack', 'lady', 'laid', 'large', 'largest', 'last', 'late', 'later', 'latest', 'launch', 'launched', 'law', 'le', 'lead', 'leader', 'leading', 'learn', 'least', 'leave', 'leaving', 'led', 'left', 'let', 'letter', 'level', 'life', 'light', 'like', 'likely', 'limit', 'limited', 'limiting', 'line', 'link', 'list', 'listen', 'literally', 'little', 'live', 'living', 'load', 'loan', 'local', 'location', 'lock', 'lockdown', 'logistics', 'lol', 'london', 'long', 'longer', 'loo', 'look', 'looked', 'looking', 'lose', 'losing', 'loss', 'lost', 'lot', 'love', 'low', 'lower', 'lowest', 'lt', 'lysol', 'made', 'mail', 'main', 'maintain', 'major', 'make', 'making', 'mall', 'man', 'manage', 'management', 'manager', 'manufacturer', 'manufacturing', 'many', 'march', 'market', 'marketing', 'mask', 'mass', 'massive', 'matter', 'may', 'maybe', 'meal', 'mean', 'meanwhile', 'measure', 'meat', 'medical', 'medicine', 'medium', 'meet', 'meeting', 'member', 'meme', 'men', 'message', 'middle', 'might', 'milk', 'million', 'min', 'mind', 'minimum', 'minister', 'minute', 'ml', 'mobile', 'model', 'mom', 'moment', 'monday', 'money', 'month', 'morning', 'morrison', 'mortgage', 'mostly', 'mother', 'mouth', 'move', 'movement', 'movie', 'moving', 'mr', 'much', 'mum', 'must', 'na', 'name', 'narendramodi', 'nation', 'national', 'natural', 'nd', 'near', 'nearly', 'necessary', 'necessity', 'need', 'needed', 'negative', 'neighbor', 'network', 'never', 'new', 'news', 'next', 'nh', 'nice', 'nigeria', 'night', 'nj', 'nobody', 'non', 'normal', 'normally', 'north', 'note', 'nothing', 'notice', 'novel', 'number', 'nurse', 'ny', 'nyc', 'offer', 'offered', 'offering', 'office', 'officer', 'official', 'often', 'oh', 'oil', 'ok', 'old', 'older', 'one', 'ongoing', 'online', 'onlineshopping', 'ontario', 'opec', 'open', 'opening', 'operation', 'opportunity', 'option', 'order', 'ordered', 'ordering', 'organization', 'others', 'outbreak', 'output', 'outside', 'owner', 'oz', 'pa', 'pack', 'package', 'packed', 'page', 'paid', 'pakistan', 'pandemic', 'panic', 'panicbuying', 'panicbuyinguk', 'panicshopping', 'pantry', 'paper', 'parent', 'park', 'parking', 'part', 'partner', 'party', 'pas', 'past', 'pasta', 'patient', 'pattern', 'pay', 'paying', 'payment', 'peak', 'people', 'per', 'percent', 'perfect', 'perhaps', 'period', 'person', 'personal', 'personnel', 'pet', 'petition', 'petrol', 'pharmacy', 'phone', 'photo', 'physical', 'pick', 'pickup', 'picture', 'piece', 'piersmorgan', 'place', 'plan', 'planning', 'plant', 'plastic', 'platform', 'play', 'playing', 'please', 'plenty', 'pls', 'plus', 'pm', 'pmoindia', 'point', 'police', 'policy', 'poor', 'population', 'positive', 'possible', 'post', 'potato', 'potential', 'power', 'ppe', 'ppl', 'practice', 'pre', 'precaution', 'prepare', 'prepared', 'president', 'press', 'pressure', 'pretty', 'prevent', 'price', 'pricegouging', 'pricing', 'priority', 'private', 'probably', 'problem', 'process', 'produce', 'producer', 'producing', 'product', 'production', 'professional', 'profit', 'profiteering', 'program', 'project', 'property', 'protect', 'protecting', 'protection', 'protective', 'provide', 'provided', 'provider', 'providing', 'pub', 'public', 'publix', 'purchase', 'purchasing', 'push', 'put', 'putting', 'quality', 'quarantine', 'quarantinelife', 'question', 'queue', 'queuing', 'quick', 'quickly', 'quite', 'raise', 'raising', 'rate', 'rather', 'ration', 'rationing', 'rd', 'reach', 'read', 'ready', 'real', 'realdonaldtrump', 'reality', 'really', 'reason', 'receive', 'received', 'recent', 'recently', 'recession', 'record', 'recovery', 'reduce', 'reduced', 'refund', 'regarding', 'register', 'regular', 'regulation', 'related', 'release', 'relief', 'remain', 'remains', 'remember', 'reminder', 'rent', 'report', 'reported', 'reporting', 'request', 'required', 'research', 'resident', 'resource', 'respect', 'respond', 'responder', 'response', 'responsible', 'rest', 'restaurant', 'restock', 'restriction', 'result', 'retail', 'retailer', 'return', 'revenue', 'rice', 'rich', 'ridiculous', 'right', 'rise', 'rising', 'risk', 'risking', 'road', 'role', 'roll', 'room', 'round', 'rt', 'rule', 'run', 'running', 'rush', 'russia', 'sa', 'sad', 'safe', 'safely', 'safety', 'said', 'sainsbury', 'sainsburys', 'sale', 'sanitiser', 'sanitize', 'sanitizer', 'sanitizers', 'saturday', 'saudi', 'save', 'saving', 'saw', 'say', 'saying', 'scam', 'scammer', 'scared', 'scary', 'school', 'scientist', 'search', 'season', 'second', 'sector', 'security', 'see', 'seeing', 'seem', 'seems', 'seen', 'self', 'selfish', 'selfisolation', 'sell', 'seller', 'selling', 'send', 'sending', 'senior', 'sense', 'sent', 'sentiment', 'series', 'serious', 'seriously', 'serve', 'service', 'set', 'several', 'shame', 'share', 'sharing', 'shelf', 'shelter', 'shift', 'ship', 'shipping', 'shit', 'shock', 'shop', 'shopper', 'shopping', 'short', 'shortage', 'shout', 'show', 'showing', 'shut', 'shutdown', 'sick', 'side', 'sign', 'significant', 'silver', 'simple', 'since', 'single', 'sir', 'site', 'situation', 'six', 'slot', 'slow', 'small', 'smart', 'soap', 'soar', 'social', 'socialdistanacing', 'socialdistancing', 'society', 'sold', 'solution', 'someone', 'something', 'son', 'soon', 'sorry', 'source', 'south', 'space', 'spain', 'special', 'spend', 'spending', 'spent', 'spike', 'sport', 'spot', 'spray', 'spread', 'spreading', 'spring', 'st', 'staff', 'stand', 'standard', 'standing', 'staple', 'start', 'started', 'starting', 'state', 'station', 'stay', 'stayathome', 'stayhome', 'stayhomesavelives', 'staying', 'staysafe', 'staysafestayhome', 'step', 'still', 'stimulus', 'stock', 'stocked', 'stocking', 'stockpile', 'stockpiling', 'stop', 'stophoarding', 'stoppanicbuying', 'stopped', 'stopstockpiling', 'store', 'story', 'strategy', 'street', 'stress', 'strong', 'struggle', 'struggling', 'stuck', 'student', 'study', 'stuff', 'stupid', 'sunday', 'super', 'supermarket', 'supplier', 'supply', 'supplychain', 'support', 'supporting', 'supposed', 'sure', 'surface', 'surge', 'surgical', 'surrounding', 'survey', 'survival', 'survive', 'sweep', 'symptom', 'system', 'take', 'taken', 'taking', 'talk', 'talking', 'target', 'task', 'tax', 'teacher', 'team', 'tech', 'technology', 'tell', 'telling', 'temporarily', 'temporary', 'term', 'tesco', 'test', 'tested', 'testing', 'texas', 'text', 'th', 'thank', 'thanks', 'thing', 'think', 'thinking', 'though', 'thought', 'thousand', 'thread', 'threat', 'three', 'throughout', 'thru', 'thursday', 'ticket', 'till', 'time', 'tip', 'tissue', 'today', 'together', 'toilet', 'toiletpaper', 'toiletpaperapocalypse', 'toiletpapercrisis', 'toiletpaperpanic', 'told', 'tomorrow', 'tonight', 'took', 'top', 'toronto', 'total', 'totally', 'touch', 'touching', 'tough', 'towards', 'towel', 'town', 'tp', 'track', 'trade', 'trader', 'trading', 'traffic', 'transport', 'travel', 'treat', 'treatment', 'trend', 'tried', 'trip', 'trolley', 'truck', 'true', 'trump', 'trust', 'try', 'trying', 'tuesday', 'turn', 'turning', 'tv', 'tweet', 'twitter', 'two', 'type', 'uk', 'unable', 'uncertain', 'uncertainty', 'understand', 'unemployment', 'united', 'unless', 'unprecedented', 'update', 'updated', 'ur', 'urge', 'usa', 'use', 'used', 'using', 'usual', 'utility', 'vaccine', 'value', 'veg', 'vegetable', 'ventilator', 'via', 'video', 'view', 'virtual', 'virus', 'visit', 'vital', 'volunteer', 'vulnerable', 'wage', 'wait', 'waiting', 'waitrose', 'wake', 'walk', 'walking', 'walmart', 'want', 'wanted', 'war', 'warehouse', 'warning', 'wash', 'washing', 'washyourhands', 'waste', 'watch', 'watching', 'water', 'way', 'wear', 'wearing', 'webinar', 'website', 'wednesday', 'week', 'weekend', 'weekly', 'well', 'went', 'west', 'whether', 'whilst', 'white', 'whole', 'wholesale', 'wife', 'win', 'wine', 'wipe', 'wish', 'within', 'without', 'woman', 'wonder', 'wondering', 'woolworth', 'word', 'work', 'worked', 'worker', 'working', 'world', 'worldwide', 'worried', 'worry', 'worse', 'worst', 'worth', 'would', 'wrong', 'wtf', 'wuhan', 'year', 'yes', 'yesterday', 'yet', 'york', 'young', 'youtube', 'yr', 'zero']\n"
     ]
    },
    {
     "name": "stderr",
     "output_type": "stream",
     "text": [
      "C:\\Users\\IITM mech\\AppData\\Local\\Programs\\Python\\Python310\\lib\\site-packages\\sklearn\\utils\\deprecation.py:87: FutureWarning: Function get_feature_names is deprecated; get_feature_names is deprecated in 1.0 and will be removed in 1.2. Please use get_feature_names_out instead.\n",
      "  warnings.warn(msg, category=FutureWarning)\n"
     ]
    }
   ],
   "source": [
    "print(len(cv.get_feature_names()))\n",
    "print(cv.get_feature_names())"
   ]
  },
  {
   "cell_type": "code",
   "execution_count": 16,
   "id": "99a3632e",
   "metadata": {},
   "outputs": [
    {
     "name": "stdout",
     "output_type": "stream",
     "text": [
      "<class 'numpy.ndarray'>\n",
      "<class 'pandas.core.series.Series'>\n"
     ]
    }
   ],
   "source": [
    "x = res\n",
    "y = df['sentiment']\n",
    "print(type(x))\n",
    "print(type(y))"
   ]
  },
  {
   "cell_type": "code",
   "execution_count": 17,
   "id": "cff7712f",
   "metadata": {},
   "outputs": [
    {
     "name": "stdout",
     "output_type": "stream",
     "text": [
      "(41157, 1500)\n",
      "(41157,)\n"
     ]
    }
   ],
   "source": [
    "print(x.shape)\n",
    "print(y.shape)"
   ]
  },
  {
   "cell_type": "code",
   "execution_count": 18,
   "id": "ad722bd1",
   "metadata": {},
   "outputs": [],
   "source": [
    "from sklearn.model_selection import train_test_split"
   ]
  },
  {
   "cell_type": "code",
   "execution_count": 19,
   "id": "7f80e387",
   "metadata": {},
   "outputs": [
    {
     "name": "stdout",
     "output_type": "stream",
     "text": [
      "(30867, 1500)\n",
      "(10290, 1500)\n",
      "(30867,)\n",
      "(10290,)\n"
     ]
    }
   ],
   "source": [
    "x_train,x_test,y_train,y_test = train_test_split(x,y,test_size=0.25)   #splitting data\n",
    "print(x_train.shape)\n",
    "print(x_test.shape)\n",
    "print(y_train.shape)\n",
    "print(y_test.shape)"
   ]
  },
  {
   "cell_type": "code",
   "execution_count": 20,
   "id": "24fdeb20",
   "metadata": {},
   "outputs": [],
   "source": [
    "import warnings\n",
    "warnings.filterwarnings('ignore')"
   ]
  },
  {
   "cell_type": "code",
   "execution_count": 21,
   "id": "5ec30919",
   "metadata": {},
   "outputs": [],
   "source": [
    "from sklearn.preprocessing import LabelEncoder\n",
    "lb = LabelEncoder()"
   ]
  },
  {
   "cell_type": "code",
   "execution_count": 22,
   "id": "ea659fb7",
   "metadata": {},
   "outputs": [],
   "source": [
    "from sklearn.naive_bayes import MultinomialNB"
   ]
  },
  {
   "cell_type": "code",
   "execution_count": 23,
   "id": "00c3deae",
   "metadata": {},
   "outputs": [
    {
     "data": {
      "text/plain": [
       "MultinomialNB()"
      ]
     },
     "execution_count": 23,
     "metadata": {},
     "output_type": "execute_result"
    }
   ],
   "source": [
    "mnb = MultinomialNB()\n",
    "mnb.fit(x_train,y_train)"
   ]
  },
  {
   "cell_type": "code",
   "execution_count": 24,
   "id": "9804ff45",
   "metadata": {},
   "outputs": [
    {
     "name": "stdout",
     "output_type": "stream",
     "text": [
      "Training score 0.9898921177957042\n",
      "Testing score 0.989310009718173\n"
     ]
    }
   ],
   "source": [
    "print('Training score',mnb.score(x_train,y_train))\n",
    "print('Testing score',mnb.score(x_test,y_test))"
   ]
  },
  {
   "cell_type": "code",
   "execution_count": 25,
   "id": "0b4de2ea",
   "metadata": {},
   "outputs": [
    {
     "name": "stdout",
     "output_type": "stream",
     "text": [
      "[0 0 0 ... 0 0 0]\n"
     ]
    }
   ],
   "source": [
    "y_pred_mnb = mnb.predict(x_test)\n",
    "print(y_pred_mnb)"
   ]
  },
  {
   "cell_type": "code",
   "execution_count": 26,
   "id": "f6b3e491",
   "metadata": {},
   "outputs": [],
   "source": [
    "from sklearn.metrics import confusion_matrix,classification_report,accuracy_score"
   ]
  },
  {
   "cell_type": "code",
   "execution_count": 27,
   "id": "14db4541",
   "metadata": {},
   "outputs": [
    {
     "name": "stdout",
     "output_type": "stream",
     "text": [
      "[[10152   100     3     0     0]\n",
      " [    5    28     0     0     0]\n",
      " [    0     0     0     0     0]\n",
      " [    0     1     0     0     0]\n",
      " [    0     1     0     0     0]]\n",
      "              precision    recall  f1-score   support\n",
      "\n",
      "           0       1.00      0.99      0.99     10255\n",
      "           1       0.22      0.85      0.34        33\n",
      "           2       0.00      0.00      0.00         0\n",
      "           3       0.00      0.00      0.00         1\n",
      "           4       0.00      0.00      0.00         1\n",
      "\n",
      "    accuracy                           0.99     10290\n",
      "   macro avg       0.24      0.37      0.27     10290\n",
      "weighted avg       1.00      0.99      0.99     10290\n",
      "\n"
     ]
    }
   ],
   "source": [
    "cm_mnb = confusion_matrix(y_test,y_pred_mnb)\n",
    "print(cm_mnb)\n",
    "print(classification_report(y_test,y_pred_mnb))"
   ]
  },
  {
   "cell_type": "code",
   "execution_count": 28,
   "id": "0f0c6fdb",
   "metadata": {},
   "outputs": [],
   "source": [
    "from sklearn.svm import SVC"
   ]
  },
  {
   "cell_type": "code",
   "execution_count": 29,
   "id": "48611216",
   "metadata": {},
   "outputs": [
    {
     "data": {
      "text/plain": [
       "SVC()"
      ]
     },
     "execution_count": 29,
     "metadata": {},
     "output_type": "execute_result"
    }
   ],
   "source": [
    "mr = SVC(kernel='rbf')\n",
    "mr.fit(x_train,y_train)"
   ]
  },
  {
   "cell_type": "code",
   "execution_count": 30,
   "id": "ae6797c2",
   "metadata": {},
   "outputs": [
    {
     "name": "stdout",
     "output_type": "stream",
     "text": [
      "Training score 0.9998380147082645\n",
      "Testing score 0.9994169096209913\n"
     ]
    }
   ],
   "source": [
    "print('Training score',mr.score(x_train,y_train))\n",
    "print('Testing score',mr.score(x_test,y_test))"
   ]
  },
  {
   "cell_type": "code",
   "execution_count": 31,
   "id": "98394b18",
   "metadata": {},
   "outputs": [
    {
     "name": "stdout",
     "output_type": "stream",
     "text": [
      "[0 0 0 ... 0 0 0]\n"
     ]
    }
   ],
   "source": [
    "y_pred_mr = mr.predict(x_test)\n",
    "print(y_pred_mr)"
   ]
  },
  {
   "cell_type": "code",
   "execution_count": 32,
   "id": "06b2ca68",
   "metadata": {},
   "outputs": [
    {
     "name": "stdout",
     "output_type": "stream",
     "text": [
      "[[10255     0     0     0]\n",
      " [    4    29     0     0]\n",
      " [    0     1     0     0]\n",
      " [    0     1     0     0]]\n",
      "              precision    recall  f1-score   support\n",
      "\n",
      "           0       1.00      1.00      1.00     10255\n",
      "           1       0.94      0.88      0.91        33\n",
      "           3       0.00      0.00      0.00         1\n",
      "           4       0.00      0.00      0.00         1\n",
      "\n",
      "    accuracy                           1.00     10290\n",
      "   macro avg       0.48      0.47      0.48     10290\n",
      "weighted avg       1.00      1.00      1.00     10290\n",
      "\n"
     ]
    }
   ],
   "source": [
    "cm_mr = confusion_matrix(y_test,y_pred_mr)\n",
    "print(cm_mr)\n",
    "print(classification_report(y_test,y_pred_mr))"
   ]
  },
  {
   "cell_type": "code",
   "execution_count": 33,
   "id": "91cd4024",
   "metadata": {},
   "outputs": [],
   "source": [
    "from sklearn.neighbors import KNeighborsClassifier"
   ]
  },
  {
   "cell_type": "code",
   "execution_count": 34,
   "id": "c5561aec",
   "metadata": {},
   "outputs": [
    {
     "data": {
      "text/plain": [
       "KNeighborsClassifier(n_neighbors=15)"
      ]
     },
     "execution_count": 34,
     "metadata": {},
     "output_type": "execute_result"
    }
   ],
   "source": [
    "m2 = KNeighborsClassifier(n_neighbors=15)\n",
    "m2.fit(x_train,y_train)"
   ]
  },
  {
   "cell_type": "code",
   "execution_count": 35,
   "id": "7eac3342",
   "metadata": {},
   "outputs": [
    {
     "name": "stdout",
     "output_type": "stream",
     "text": [
      "Training score 0.9970842647487608\n",
      "Testing score 0.9969873663751215\n"
     ]
    }
   ],
   "source": [
    "print('Training score',m2.score(x_train,y_train))\n",
    "print('Testing score',m2.score(x_test,y_test))"
   ]
  },
  {
   "cell_type": "code",
   "execution_count": 36,
   "id": "248a46b1",
   "metadata": {},
   "outputs": [
    {
     "name": "stdout",
     "output_type": "stream",
     "text": [
      "[0 0 0 ... 0 0 0]\n"
     ]
    }
   ],
   "source": [
    "y_pred_m2 = m2.predict(x_test)\n",
    "print(y_pred_m2)"
   ]
  },
  {
   "cell_type": "code",
   "execution_count": 37,
   "id": "de5ced46",
   "metadata": {},
   "outputs": [
    {
     "name": "stdout",
     "output_type": "stream",
     "text": [
      "[[10255     0     0     0]\n",
      " [   29     4     0     0]\n",
      " [    0     1     0     0]\n",
      " [    0     1     0     0]]\n",
      "              precision    recall  f1-score   support\n",
      "\n",
      "           0       1.00      1.00      1.00     10255\n",
      "           1       0.67      0.12      0.21        33\n",
      "           3       0.00      0.00      0.00         1\n",
      "           4       0.00      0.00      0.00         1\n",
      "\n",
      "    accuracy                           1.00     10290\n",
      "   macro avg       0.42      0.28      0.30     10290\n",
      "weighted avg       1.00      1.00      1.00     10290\n",
      "\n"
     ]
    }
   ],
   "source": [
    "print(confusion_matrix(y_test,y_pred_m2))\n",
    "print(classification_report(y_test,y_pred_m2))"
   ]
  },
  {
   "cell_type": "markdown",
   "id": "2066aa16",
   "metadata": {},
   "source": [
    "## RESULT :\n",
    " THE MODEL WITH BEST ACCURACY IS SVM CLASSIFIER"
   ]
  }
 ],
 "metadata": {
  "kernelspec": {
   "display_name": "Python 3 (ipykernel)",
   "language": "python",
   "name": "python3"
  },
  "language_info": {
   "codemirror_mode": {
    "name": "ipython",
    "version": 3
   },
   "file_extension": ".py",
   "mimetype": "text/x-python",
   "name": "python",
   "nbconvert_exporter": "python",
   "pygments_lexer": "ipython3",
   "version": "3.10.3"
  }
 },
 "nbformat": 4,
 "nbformat_minor": 5
}
